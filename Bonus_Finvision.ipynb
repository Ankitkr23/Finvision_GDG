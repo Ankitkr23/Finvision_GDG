{
  "nbformat": 4,
  "nbformat_minor": 0,
  "metadata": {
    "colab": {
      "provenance": [],
      "include_colab_link": true
    },
    "kernelspec": {
      "name": "python3",
      "display_name": "Python 3"
    },
    "language_info": {
      "name": "python"
    }
  },
  "cells": [
    {
      "cell_type": "markdown",
      "metadata": {
        "id": "view-in-github",
        "colab_type": "text"
      },
      "source": [
        "<a href=\"https://colab.research.google.com/github/Ankitkr23/Finvision_GDG/blob/main/Bonus_Finvision.ipynb\" target=\"_parent\"><img src=\"https://colab.research.google.com/assets/colab-badge.svg\" alt=\"Open In Colab\"/></a>"
      ]
    },
    {
      "cell_type": "code",
      "source": [
        "\n",
        "import yfinance as yf\n",
        "from statsmodels.tsa.stattools import adfuller, kpss\n",
        "import warnings\n",
        "\n",
        "def test_stationarity(series, name):\n",
        "    # ADF Test\n",
        "    adf_result = adfuller(series, autolag='AIC')\n",
        "    adf_statistic = adf_result[0]\n",
        "    adf_p_value = adf_result[1]\n",
        "\n",
        "    # KPSS Test\n",
        "    warnings.filterwarnings(\"ignore\", category=UserWarning, message=\".*The test statistic is outside.*\")\n",
        "    kpss_result = kpss(series, regression='c', nlags='auto')\n",
        "    kpss_statistic = kpss_result[0]\n",
        "    kpss_p_value = kpss_result[1]\n",
        "\n",
        "    print(f\"\\n{name} Stationarity Tests:\")\n",
        "    print(\"ADF Test:\")\n",
        "    print(f\"  Test Statistic: {adf_statistic:.4f}\")\n",
        "    print(f\"  p-value: {adf_p_value:.4f}\")\n",
        "    print(\"  Stationary\" if adf_p_value < 0.05 else \"  Non-Stationary\")\n",
        "\n",
        "    print(\"KPSS Test:\")\n",
        "    print(f\"  Test Statistic: {kpss_statistic:.4f}\")\n",
        "    print(f\"  p-value: {kpss_p_value:.4f}\")\n",
        "    print(\"  Stationary\" if kpss_p_value > 0.05 else \"  Non-Stationary\")\n",
        "\n",
        "\n",
        "stocks = yf.download(['ZOMATO.NS', 'HDFCBANK.NS'], start='2023-01-01', end='2023-12-31', progress=False)['Close']\n",
        "\n",
        "stocks = stocks.dropna()\n",
        "\n",
        "test_stationarity(stocks['ZOMATO.NS'], \"ZOMATO\")\n",
        "test_stationarity(stocks['HDFCBANK.NS'], \"HDFC BANK\")\n"
      ],
      "metadata": {
        "colab": {
          "base_uri": "https://localhost:8080/"
        },
        "id": "RVZrbODFvE72",
        "outputId": "8d3b5735-5fbd-4d1a-d08f-611db9f4ccd1"
      },
      "execution_count": 2,
      "outputs": [
        {
          "output_type": "stream",
          "name": "stdout",
          "text": [
            "\n",
            "ZOMATO Stationarity Tests:\n",
            "ADF Test:\n",
            "  Test Statistic: 0.4208\n",
            "  p-value: 0.9823\n",
            "  Non-Stationary\n",
            "KPSS Test:\n",
            "  Test Statistic: 2.2693\n",
            "  p-value: 0.0100\n",
            "  Non-Stationary\n",
            "\n",
            "HDFC BANK Stationarity Tests:\n",
            "ADF Test:\n",
            "  Test Statistic: -2.0091\n",
            "  p-value: 0.2826\n",
            "  Non-Stationary\n",
            "KPSS Test:\n",
            "  Test Statistic: 0.5515\n",
            "  p-value: 0.0301\n",
            "  Non-Stationary\n"
          ]
        }
      ]
    }
  ]
}